{
 "cells": [
  {
   "cell_type": "code",
   "execution_count": 1,
   "metadata": {},
   "outputs": [],
   "source": [
    "# Problem Statement :\n",
    "# As we knew the Kargil ( in Jammu and Kashmir) War that took place between May 1999 and July 1999 (3 Months) ,so there was \n",
    "# a huge conflict in Kashmir Valley during this period.\n",
    "# In this dataset, there is no information regarding the war between the two countries to find out the casualty during the war.\n",
    "# So find out the attack in this period in which maximum casualties happened.\n",
    "# Print the count of casualties (as integer), city in which that attack happened and name of attack group.\n",
    "# Note : Casualty = Killed + Wounded.Fill the empty value in killed or wounded feature to 0."
   ]
  },
  {
   "cell_type": "code",
   "execution_count": 16,
   "metadata": {},
   "outputs": [
    {
     "name": "stdout",
     "output_type": "stream",
     "text": [
      "22 Kargil District Separatists\n"
     ]
    }
   ],
   "source": [
    "import numpy as np\n",
    "import csv\n",
    "\n",
    "with open('terrorismData.csv',encoding = 'UTF-8') as file_obj:\n",
    "    file_data = csv.DictReader(file_obj,skipinitialspace=True)\n",
    "    \n",
    "    casualty = []\n",
    "    month = []\n",
    "    city = []\n",
    "    \n",
    "    for row in file_data:\n",
    "        if(row['State'] == 'Jammu and Kashmir' and row['Year'] == '1999'):\n",
    "            if(row['Month']=='5' or row['Month']=='6' or row['Month']=='7'):\n",
    "                city.append([row['City'],row['Group']])\n",
    "                casualty.append([row['Killed'],row['Wounded']])\n",
    "    casualty = np.array(casualty)\n",
    "    city = np.array(city)\n",
    "    casualty[casualty == ''] = '0.0'\n",
    "    casualty = np.array(casualty,dtype = float)\n",
    "    casualty = np.array(casualty,dtype = int)\n",
    "    casualty = casualty[:,0] + casualty[:,1]\n",
    "    index = np.argmax(casualty)\n",
    "    print(casualty[index],city[index][0],city[index][1])"
   ]
  }
 ],
 "metadata": {
  "kernelspec": {
   "display_name": "Python 3",
   "language": "python",
   "name": "python3"
  },
  "language_info": {
   "codemirror_mode": {
    "name": "ipython",
    "version": 3
   },
   "file_extension": ".py",
   "mimetype": "text/x-python",
   "name": "python",
   "nbconvert_exporter": "python",
   "pygments_lexer": "ipython3",
   "version": "3.7.6"
  }
 },
 "nbformat": 4,
 "nbformat_minor": 4
}
