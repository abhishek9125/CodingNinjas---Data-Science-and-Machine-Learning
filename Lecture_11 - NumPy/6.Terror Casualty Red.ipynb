{
 "cells": [
  {
   "cell_type": "code",
   "execution_count": 1,
   "metadata": {},
   "outputs": [],
   "source": [
    "# Problem Statement :\n",
    "# Find the casualty in the Red Corridor States ? Mainly Red corridor states include Jharkhand, Odisha, Andhra Pradesh, and Chhattisgarh.\n",
    "# Note: Casualty=Killed +Wounded\n",
    "# Print count of Casualty as integer value."
   ]
  },
  {
   "cell_type": "code",
   "execution_count": 7,
   "metadata": {},
   "outputs": [
    {
     "name": "stdout",
     "output_type": "stream",
     "text": [
      "5628\n"
     ]
    }
   ],
   "source": [
    "import numpy as np\n",
    "import csv\n",
    "\n",
    "with open('terrorismData.csv',encoding = 'UTF-8') as file_obj:\n",
    "    file_data = csv.DictReader(file_obj,skipinitialspace=True)\n",
    "    \n",
    "    casualty = []\n",
    "    \n",
    "    for row in file_data:\n",
    "        if(row['State'] == 'Jharkhand' or row['State'] == 'Chhattisgarh' or row['State'] == 'Andhra Pradesh' or row['State'] == 'Odisha'):\n",
    "            casualty.append([row['Killed'],row['Wounded']])\n",
    "\n",
    "casualty = np.array(casualty)\n",
    "casualty[casualty==''] = '0.0'\n",
    "casualty = np.array(casualty,dtype = float)\n",
    "casualty = np.array(casualty,dtype = int)\n",
    "casualty = casualty[:,0] + casualty[:,1]\n",
    "print(casualty.sum())"
   ]
  }
 ],
 "metadata": {
  "kernelspec": {
   "display_name": "Python 3",
   "language": "python",
   "name": "python3"
  },
  "language_info": {
   "codemirror_mode": {
    "name": "ipython",
    "version": 3
   },
   "file_extension": ".py",
   "mimetype": "text/x-python",
   "name": "python",
   "nbconvert_exporter": "python",
   "pygments_lexer": "ipython3",
   "version": "3.7.6"
  }
 },
 "nbformat": 4,
 "nbformat_minor": 4
}
