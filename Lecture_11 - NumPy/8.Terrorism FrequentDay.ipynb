{
 "cells": [
  {
   "cell_type": "code",
   "execution_count": 1,
   "metadata": {},
   "outputs": [],
   "source": [
    "# Problem Statement :\n",
    "# Find the most frequent day of attack in a terrorismDataset ?\n",
    "# Note: Here np.unique can be used.\n",
    "# Print count of frequent day and number of attack as Integer value."
   ]
  },
  {
   "cell_type": "code",
   "execution_count": 13,
   "metadata": {},
   "outputs": [
    {
     "name": "stdout",
     "output_type": "stream",
     "text": [
      "15 6500\n"
     ]
    }
   ],
   "source": [
    "import numpy as np\n",
    "import csv\n",
    "\n",
    "with open('terrorismData.csv',encoding = 'UTF-8') as file_obj:\n",
    "    file_data = csv.DictReader(file_obj,skipinitialspace=True)\n",
    "    \n",
    "    day = []\n",
    "    \n",
    "    for row in file_data:\n",
    "        day.append(row['Day'])\n",
    "    \n",
    "    day = np.array(day)\n",
    "    unique,counts = np.unique(day,return_counts = True)\n",
    "    index = counts.argmax()\n",
    "    print(unique[index],counts[index])"
   ]
  }
 ],
 "metadata": {
  "kernelspec": {
   "display_name": "Python 3",
   "language": "python",
   "name": "python3"
  },
  "language_info": {
   "codemirror_mode": {
    "name": "ipython",
    "version": 3
   },
   "file_extension": ".py",
   "mimetype": "text/x-python",
   "name": "python",
   "nbconvert_exporter": "python",
   "pygments_lexer": "ipython3",
   "version": "3.7.6"
  }
 },
 "nbformat": 4,
 "nbformat_minor": 4
}
