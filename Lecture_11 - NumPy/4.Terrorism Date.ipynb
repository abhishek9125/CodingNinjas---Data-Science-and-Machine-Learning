{
 "cells": [
  {
   "cell_type": "code",
   "execution_count": 25,
   "metadata": {},
   "outputs": [
    {
     "name": "stdout",
     "output_type": "stream",
     "text": [
      "271\n"
     ]
    }
   ],
   "source": [
    "#Find the number of attack held between 1 Jan 2010 and 31 Jan 2010?(including both date).\n",
    "#Note Ignore the case where day is 0\n",
    "#Print count of NumberOFAttack as integer value.\n",
    "import numpy as np\n",
    "import csv\n",
    "\n",
    "with open('terrorismData.csv',encoding = 'UTF-8') as file_obj:\n",
    "    file_data = csv.DictReader(file_obj,skipinitialspace=True)\n",
    "    \n",
    "    date = []\n",
    "    for row in file_data:\n",
    "        date.append([row['Day'],row['Month'],row['Year']])\n",
    "    \n",
    "    npdate = np.array(date,dtype = int)\n",
    "    npdate = npdate[(npdate[:,2]==2010) & (npdate[:,1]==1) & (npdate[:,0]>=1)]\n",
    "    print(npdate.shape[0])"
   ]
  }
 ],
 "metadata": {
  "kernelspec": {
   "display_name": "Python 3",
   "language": "python",
   "name": "python3"
  },
  "language_info": {
   "codemirror_mode": {
    "name": "ipython",
    "version": 3
   },
   "file_extension": ".py",
   "mimetype": "text/x-python",
   "name": "python",
   "nbconvert_exporter": "python",
   "pygments_lexer": "ipython3",
   "version": "3.7.6"
  }
 },
 "nbformat": 4,
 "nbformat_minor": 4
}
