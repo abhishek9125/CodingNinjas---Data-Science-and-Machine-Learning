{
 "cells": [
  {
   "cell_type": "code",
   "execution_count": 1,
   "metadata": {},
   "outputs": [
    {
     "name": "stdout",
     "output_type": "stream",
     "text": [
      "3771\n"
     ]
    }
   ],
   "source": [
    "## Open and read data file as specified in the question\n",
    "## Print the required output in given format\n",
    "#Find total number of people killed from USA?\n",
    "#Note: Some columns of killed are empty so replace them by 0.\n",
    "#Print count of Killed as integer value.\n",
    "import numpy as np\n",
    "import csv\n",
    "\n",
    "with open('terrorismData.csv',encoding = 'UTF-8') as file_obj:\n",
    "    file_data = csv.DictReader(file_obj,skipinitialspace=True)\n",
    "    \n",
    "    country=[]\n",
    "    killed=[]\n",
    "    \n",
    "    for row in file_data:\n",
    "        killed.append(row['Killed'])\n",
    "        country.append(row['Country'])\n",
    "        \n",
    "    np_killed = np.array(killed)\n",
    "    np_country = np.array(country)\n",
    "    \n",
    "    np_killed[np_killed=='']='0.0'\n",
    "    bool_arr = np_country=='United States'\n",
    "    \n",
    "    a = np.array(np_killed[bool_arr],dtype=float)\n",
    "    a = np.array(a,dtype=int)\n",
    "\n",
    "    print(sum(a))"
   ]
  }
 ],
 "metadata": {
  "kernelspec": {
   "display_name": "Python 3",
   "language": "python",
   "name": "python3"
  },
  "language_info": {
   "codemirror_mode": {
    "name": "ipython",
    "version": 3
   },
   "file_extension": ".py",
   "mimetype": "text/x-python",
   "name": "python",
   "nbconvert_exporter": "python",
   "pygments_lexer": "ipython3",
   "version": "3.7.6"
  }
 },
 "nbformat": 4,
 "nbformat_minor": 4
}
