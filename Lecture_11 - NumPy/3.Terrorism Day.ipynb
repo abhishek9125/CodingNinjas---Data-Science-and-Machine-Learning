{
 "cells": [
  {
   "cell_type": "code",
   "execution_count": 14,
   "metadata": {},
   "outputs": [
    {
     "name": "stdout",
     "output_type": "stream",
     "text": [
      "66330\n"
     ]
    }
   ],
   "source": [
    "## Open and read data file as specified in the question\n",
    "## Print the required output in given format\n",
    "#Find the number of attack held between day 10 and day 20?(ignoring the year and month)(including both day)\n",
    "#Print count of NumberOFAttack as integer value.\n",
    "import numpy as np\n",
    "import csv\n",
    "\n",
    "with open('terrorismData.csv',encoding = 'UTF-8') as file_obj:\n",
    "    file_data = csv.DictReader(file_obj,skipinitialspace=True)\n",
    "    \n",
    "    day=[]\n",
    "    attacks=[]\n",
    "    \n",
    "    for row in file_data:\n",
    "        day.append(row['Day'])\n",
    "    \n",
    "    a = np.array(day,dtype=float)\n",
    "    a = np.array(a,dtype=int)\n",
    "    index = np.where((a>=10) & (a<=20))    \n",
    "    index = np.array(index)\n",
    "    print(index.size)"
   ]
  }
 ],
 "metadata": {
  "kernelspec": {
   "display_name": "Python 3",
   "language": "python",
   "name": "python3"
  },
  "language_info": {
   "codemirror_mode": {
    "name": "ipython",
    "version": 3
   },
   "file_extension": ".py",
   "mimetype": "text/x-python",
   "name": "python",
   "nbconvert_exporter": "python",
   "pygments_lexer": "ipython3",
   "version": "3.7.6"
  }
 },
 "nbformat": 4,
 "nbformat_minor": 4
}
