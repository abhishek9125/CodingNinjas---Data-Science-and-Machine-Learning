{
 "cells": [
  {
   "cell_type": "code",
   "execution_count": 1,
   "metadata": {},
   "outputs": [],
   "source": [
    "# Problem Statement :\n",
    "# Find top 5 Indian Cities which has most number of casualties ?\n",
    "# Print top 5 cities along with total casualties in that city. Print count of Casualty as integer value.\n",
    "# Note: Ignoring the City which is Unknown.\n",
    "# Casualty = Killed + Wounded."
   ]
  },
  {
   "cell_type": "code",
   "execution_count": 43,
   "metadata": {},
   "outputs": [
    {
     "name": "stdout",
     "output_type": "stream",
     "text": [
      "Srinagar 3134\n",
      "New Delhi 2095\n",
      "Mumbai 2016\n",
      "Jammu 1119\n",
      "Guwahati 822\n"
     ]
    }
   ],
   "source": [
    "import numpy as np\n",
    "import csv\n",
    "\n",
    "with open('terrorismData.csv',encoding = 'UTF-8') as file_obj:\n",
    "    file_data = csv.DictReader(file_obj,skipinitialspace=True)\n",
    "    \n",
    "    casualty = []\n",
    "    city = []\n",
    "    for row in file_data:\n",
    "        if(row['Country']=='India'):\n",
    "            city.append(row['City'])\n",
    "            casualty.append([row['Killed'],row['Wounded']])\n",
    "\n",
    "    casualty = np.array(casualty)\n",
    "    city = np.array(city)\n",
    "    casualty[casualty==''] = '0.0'\n",
    "    casualty = np.array(casualty,dtype = float)\n",
    "    casualty = np.array(casualty,dtype = int)\n",
    "    casualty = casualty[:,0] + casualty[:,1]\n",
    "\n",
    "    ans = []\n",
    "    \n",
    "    unique = np.unique(city)\n",
    "    for i in unique:\n",
    "        index = np.where(i == city)\n",
    "        sumCasualty = casualty[index].sum()\n",
    "        ans.append([sumCasualty,i])\n",
    "        ans.sort(reverse = True)\n",
    "    \n",
    "    for i in range(6):\n",
    "        if ans[i][1] != 'Unknown':\n",
    "            print(ans[i][1],int(ans[i][0]))"
   ]
  }
 ],
 "metadata": {
  "kernelspec": {
   "display_name": "Python 3",
   "language": "python",
   "name": "python3"
  },
  "language_info": {
   "codemirror_mode": {
    "name": "ipython",
    "version": 3
   },
   "file_extension": ".py",
   "mimetype": "text/x-python",
   "name": "python",
   "nbconvert_exporter": "python",
   "pygments_lexer": "ipython3",
   "version": "3.7.6"
  }
 },
 "nbformat": 4,
 "nbformat_minor": 4
}
