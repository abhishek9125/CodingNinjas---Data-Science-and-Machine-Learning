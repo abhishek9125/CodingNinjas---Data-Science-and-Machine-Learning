{
 "cells": [
  {
   "cell_type": "code",
   "execution_count": null,
   "metadata": {},
   "outputs": [],
   "source": [
    "#Find the country does Amazon need the most number of Java Developer?\n",
    "#Print the Country(Country Shortcut as given in Dataset) and number of job opening as integer value\n",
    "#Note :Here we will use the BASIC QUALIFICATIONS feature to find out whether Java is required for the job or not.\n",
    "#      Keyword is used is 'Java'.(Here case should not be changed).\n",
    "import csv\n",
    "with open('amazon_jobs_dataset.csv') as file_obj:\n",
    "    file_data = csv.DictReader(file_obj,skipinitialspace=True)\n",
    "    l = list(file_data)\n",
    "    \n",
    "    job = {}\n",
    "    \n",
    "    for row in l:\n",
    "        x = row['BASIC QUALIFICATIONS']\n",
    "        if('Java' in x):\n",
    "            key = row['location'][:2]\n",
    "            \n",
    "            if key in job:\n",
    "                job[key] += 1\n",
    "            else:\n",
    "                job[key] = 1\n",
    "    maximum = max(job, key=job.get)\n",
    "    print(maximum, job[maximum])\n",
    "            "
   ]
  }
 ],
 "metadata": {
  "kernelspec": {
   "display_name": "Python 3",
   "language": "python",
   "name": "python3"
  },
  "language_info": {
   "codemirror_mode": {
    "name": "ipython",
    "version": 3
   },
   "file_extension": ".py",
   "mimetype": "text/x-python",
   "name": "python",
   "nbconvert_exporter": "python",
   "pygments_lexer": "ipython3",
   "version": "3.7.6"
  }
 },
 "nbformat": 4,
 "nbformat_minor": 4
}
