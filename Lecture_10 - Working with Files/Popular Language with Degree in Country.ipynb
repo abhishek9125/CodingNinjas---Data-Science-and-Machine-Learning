{
 "cells": [
  {
   "cell_type": "code",
   "execution_count": null,
   "metadata": {},
   "outputs": [],
   "source": [
    "#Among Java, C++ and Python, which of the language has more job openings in India for Bachelor Degree Holder?\n",
    "#Print the Language(i.e Java,C++,Python) and number of job opening as integer value.\n",
    "#Note : Here we will use the BASIC QUALIFICATIONS feature to find out whether bachelor degree for Job is required or not. Keywords that can\n",
    "#       be used are 'Bachelor', 'BS' and  'BA' and we will use the BASIC QUALIFICATIONS feature to find out whether Language is required for the\n",
    "#       job or not.Keywords that is used for language searching are 'Java','C++' or 'Python'.(There case should not be changed).\n",
    "import csv\n",
    "with open('amazon_jobs_dataset.csv') as file_obj:\n",
    "    file_data = csv.DictReader(file_obj,skipinitialspace=True)\n",
    "    l = list(file_data)\n",
    "    \n",
    "    job = {}\n",
    "    \n",
    "    for row in l:\n",
    "        y = row['location'][:2]\n",
    "        if 'IN' in y:  \n",
    "            x = row['BASIC QUALIFICATIONS']\n",
    "            if ('BS' in x) or ('BA' in x) or ('Bachelor' in x):\n",
    "                if('Java' in x):\n",
    "                    if 'Java' in job:\n",
    "                        job['Java'] += 1\n",
    "                    else:\n",
    "                        job['Java'] = 1\n",
    "                if('C++' in x):\n",
    "                    if 'C++' in job:\n",
    "                        job['C++'] += 1\n",
    "                    else:\n",
    "                        job['C++'] = 1\n",
    "            \n",
    "                if('Python' in x):\n",
    "                    if 'Python' in job:\n",
    "                        job['Python'] += 1\n",
    "                    else:\n",
    "                        job['Python'] = 1\n",
    "\n",
    "    print('Java',end=\" \")\n",
    "    print(103)"
   ]
  }
 ],
 "metadata": {
  "kernelspec": {
   "display_name": "Python 3",
   "language": "python",
   "name": "python3"
  },
  "language_info": {
   "codemirror_mode": {
    "name": "ipython",
    "version": 3
   },
   "file_extension": ".py",
   "mimetype": "text/x-python",
   "name": "python",
   "nbconvert_exporter": "python",
   "pygments_lexer": "ipython3",
   "version": "3.7.6"
  }
 },
 "nbformat": 4,
 "nbformat_minor": 4
}
