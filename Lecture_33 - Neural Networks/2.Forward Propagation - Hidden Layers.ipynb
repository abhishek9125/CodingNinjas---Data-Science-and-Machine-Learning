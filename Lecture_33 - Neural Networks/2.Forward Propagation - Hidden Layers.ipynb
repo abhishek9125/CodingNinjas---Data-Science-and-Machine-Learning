{
 "cells": [
  {
   "cell_type": "code",
   "execution_count": 7,
   "metadata": {},
   "outputs": [],
   "source": [
    "import numpy as np\n",
    "x = np.array([[0,0],[0,1],[1,0],[1,1]])\n",
    "y = np.array([[0,0,0,1]]).T"
   ]
  },
  {
   "cell_type": "code",
   "execution_count": 8,
   "metadata": {},
   "outputs": [],
   "source": [
    "def sig(z):\n",
    "    return 1/(1 + np.exp(-z))"
   ]
  },
  {
   "cell_type": "code",
   "execution_count": 9,
   "metadata": {},
   "outputs": [],
   "source": [
    "def derivativeSig(z):\n",
    "    return sig(z)*(1 - sig(z))"
   ]
  },
  {
   "cell_type": "code",
   "execution_count": 10,
   "metadata": {},
   "outputs": [],
   "source": [
    "wh = 2 * np.random.random((2,2)) - 1\n",
    "bh = 2 * np.random.random((1,2)) - 1\n",
    "wo = 2 * np.random.random((2,1)) - 1\n",
    "bo = 2 * np.random.random((1,1)) - 1\n",
    "lr = 0.1"
   ]
  },
  {
   "cell_type": "code",
   "execution_count": 19,
   "metadata": {},
   "outputs": [
    {
     "data": {
      "text/plain": [
       "(array([[0.00352404],\n",
       "        [0.01540269],\n",
       "        [0.0152665 ],\n",
       "        [0.97421211]]),\n",
       " array([[-0.2677309 , -4.34183115],\n",
       "        [ 0.11243912, -4.32708165]]),\n",
       " array([[-0.61307602,  6.06002662]]),\n",
       " array([[ 0.33108901],\n",
       "        [-9.99649915]]),\n",
       " array([[4.21227155]]))"
      ]
     },
     "execution_count": 19,
     "metadata": {},
     "output_type": "execute_result"
    }
   ],
   "source": [
    "for iter in range(10000):\n",
    "    output0 = x\n",
    "    inputHidden = np.dot(output0,wh) + bh\n",
    "    outputHidden = sig(inputHidden)\n",
    "    inputForOutputLayer = np.dot(outputHidden,wo) + bo\n",
    "    output = sig(inputForOutputLayer)\n",
    "\n",
    "    first_term_output_layer = output - y\n",
    "    second_term_output_layer = derivativeSig(inputForOutputLayer)\n",
    "    first_two_output_layer = first_term_output_layer*second_term_output_layer\n",
    "\n",
    "    first_term_hidden_layer = np.dot(first_two_output_layer,wo.T)\n",
    "    second_term_hidden_layer = derivativeSig(inputHidden)\n",
    "    first_two_hidden_layer = first_term_hidden_layer*second_term_hidden_layer\n",
    "\n",
    "    changes_output = np.dot(outputHidden.T,first_two_output_layer)\n",
    "    changes_output_bias = np.sum(first_two_output_layer,axis = 0,keepdims = True)\n",
    "\n",
    "    changes_hidden = np.dot(output0.T,first_two_hidden_layer)\n",
    "    changes_hidden_bias = np.sum(first_two_hidden_layer,axis = 0,keepdims = True)\n",
    "\n",
    "    wo = wo - lr*changes_output\n",
    "    bo = bo - lr*changes_output_bias\n",
    "\n",
    "    wh = wh - lr*changes_hidden\n",
    "    bh = bh - lr*changes_hidden_bias\n",
    "\n",
    "    output0 = x\n",
    "    inputHidden = np.dot(output0,wh) + bh\n",
    "    outputHidden = sig(np.dot(output0,wh) + bh)\n",
    "    inputForOutputLayer = np.dot(outputHidden,wo) + bo\n",
    "    output = sig(inputForOutputLayer)\n",
    "output,wh,bh,wo,bo"
   ]
  },
  {
   "cell_type": "code",
   "execution_count": null,
   "metadata": {},
   "outputs": [],
   "source": []
  }
 ],
 "metadata": {
  "kernelspec": {
   "display_name": "Python 3",
   "language": "python",
   "name": "python3"
  },
  "language_info": {
   "codemirror_mode": {
    "name": "ipython",
    "version": 3
   },
   "file_extension": ".py",
   "mimetype": "text/x-python",
   "name": "python",
   "nbconvert_exporter": "python",
   "pygments_lexer": "ipython3",
   "version": "3.7.6"
  }
 },
 "nbformat": 4,
 "nbformat_minor": 4
}
