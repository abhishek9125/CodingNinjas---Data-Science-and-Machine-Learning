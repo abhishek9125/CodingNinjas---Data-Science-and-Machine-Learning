{
 "cells": [
  {
   "cell_type": "code",
   "execution_count": 1,
   "metadata": {},
   "outputs": [],
   "source": [
    "from sklearn import datasets\n",
    "from sklearn.model_selection import train_test_split"
   ]
  },
  {
   "cell_type": "code",
   "execution_count": 3,
   "metadata": {},
   "outputs": [],
   "source": [
    "iris = datasets.load_iris()"
   ]
  },
  {
   "cell_type": "code",
   "execution_count": 4,
   "metadata": {},
   "outputs": [],
   "source": [
    "x = iris.data\n",
    "y = iris.target"
   ]
  },
  {
   "cell_type": "code",
   "execution_count": 5,
   "metadata": {},
   "outputs": [],
   "source": [
    "x_train,x_test,y_train,y_test = train_test_split(x,y)"
   ]
  },
  {
   "cell_type": "code",
   "execution_count": 6,
   "metadata": {},
   "outputs": [],
   "source": [
    "from sklearn.neural_network import MLPClassifier"
   ]
  },
  {
   "cell_type": "code",
   "execution_count": 7,
   "metadata": {},
   "outputs": [
    {
     "data": {
      "text/plain": [
       "MLPClassifier(activation='relu', alpha=0.0001, batch_size='auto', beta_1=0.9,\n",
       "              beta_2=0.999, early_stopping=False, epsilon=1e-08,\n",
       "              hidden_layer_sizes=(20,), learning_rate='constant',\n",
       "              learning_rate_init=0.001, max_fun=15000, max_iter=3000,\n",
       "              momentum=0.9, n_iter_no_change=10, nesterovs_momentum=True,\n",
       "              power_t=0.5, random_state=None, shuffle=True, solver='adam',\n",
       "              tol=0.0001, validation_fraction=0.1, verbose=False,\n",
       "              warm_start=False)"
      ]
     },
     "execution_count": 7,
     "metadata": {},
     "output_type": "execute_result"
    }
   ],
   "source": [
    "clf = MLPClassifier(hidden_layer_sizes = (20,), max_iter = 3000)\n",
    "clf.fit(x_train,y_train)"
   ]
  },
  {
   "cell_type": "code",
   "execution_count": 8,
   "metadata": {},
   "outputs": [
    {
     "data": {
      "text/plain": [
       "0.9736842105263158"
      ]
     },
     "execution_count": 8,
     "metadata": {},
     "output_type": "execute_result"
    }
   ],
   "source": [
    "clf.score(x_test,y_test)"
   ]
  },
  {
   "cell_type": "code",
   "execution_count": 9,
   "metadata": {},
   "outputs": [
    {
     "data": {
      "text/plain": [
       "[array([[ 2.96147524e-01,  6.06777435e-01,  7.68446244e-01,\n",
       "          2.59920292e-01,  3.71020458e-01,  2.57684764e-01,\n",
       "          3.71832883e-01,  1.47129145e-01, -2.19339347e-01,\n",
       "          1.62214788e-01,  2.29088281e-01, -2.56736000e-02,\n",
       "         -9.08535183e-02,  3.02737392e-01, -1.37239771e-05,\n",
       "          2.32961056e-01,  2.62589681e-02,  3.14676393e-01,\n",
       "          4.12973195e-01,  1.35216802e-01],\n",
       "        [ 1.56086503e-01,  3.60271427e-01,  4.74759949e-01,\n",
       "          9.36774417e-01,  2.79065219e-01,  2.96910564e-01,\n",
       "          3.53406249e-01, -1.22939219e-01,  2.71754520e-01,\n",
       "          3.83610936e-01, -4.24398380e-01, -2.27777379e-02,\n",
       "         -1.65236817e-02, -1.58444972e-01,  2.85647563e-04,\n",
       "          3.73723513e-01, -3.60028634e-01,  9.30214315e-02,\n",
       "          3.12920405e-01,  5.61951511e-01],\n",
       "        [ 2.56461757e-01,  1.08913178e-01, -8.66760147e-01,\n",
       "         -8.85176553e-01, -2.03350396e-01,  3.46783386e-02,\n",
       "         -2.40008410e-01,  4.99658340e-02,  1.80160559e-01,\n",
       "         -1.75882360e-01,  5.78853407e-01, -2.35358147e-02,\n",
       "         -1.64882879e-02, -2.57510183e-01, -2.50678952e-07,\n",
       "          8.18986534e-02, -2.00188870e-02,  3.29578259e-01,\n",
       "          6.41378121e-01, -2.83614451e-01],\n",
       "        [-1.88526471e-01, -1.70903660e-01, -1.17126821e+00,\n",
       "         -1.13252462e+00,  1.00468546e-01,  1.57077286e-02,\n",
       "          4.99591005e-02,  3.37816779e-01, -2.40184756e-01,\n",
       "         -7.76769771e-01,  8.56171036e-02, -1.50977818e-02,\n",
       "          5.80805344e-02,  1.56784445e-01, -9.18939171e-04,\n",
       "          1.05422265e-01,  2.45475936e-01, -2.34489927e-01,\n",
       "          3.12114385e-01, -2.87227753e-01]]),\n",
       " array([[-2.94047608e-01, -4.18895190e-02, -3.01219372e-02],\n",
       "        [-4.06260175e-01, -1.56785331e-01, -2.08616852e-01],\n",
       "        [ 8.50807266e-01,  7.54632416e-01, -1.34828757e+00],\n",
       "        [ 9.75768252e-01, -1.67029032e+00, -2.64914526e-01],\n",
       "        [-1.02015373e-01,  4.78868725e-02, -4.83402018e-01],\n",
       "        [ 1.79809352e-01, -2.29247917e-01, -4.87183499e-01],\n",
       "        [-3.77189147e-01,  2.35882167e-01, -1.31479904e-01],\n",
       "        [-2.52022370e-01, -4.57432521e-01, -2.66559793e-01],\n",
       "        [-6.85712489e-02, -3.69294454e-01,  2.33032742e-01],\n",
       "        [ 1.88694123e-01,  4.39679678e-01, -6.52115165e-01],\n",
       "        [-5.69192792e-01,  2.48122237e-02,  5.97264818e-01],\n",
       "        [ 2.04066474e-03,  2.10498213e-02, -2.07525281e-02],\n",
       "        [ 3.89300657e-17,  1.44742407e-04, -5.99126816e-05],\n",
       "        [ 3.69802315e-01,  3.20015371e-01,  3.83411771e-01],\n",
       "        [ 2.58915767e-10,  3.80988661e-25, -4.52007797e-24],\n",
       "        [ 3.24274328e-01, -4.55581042e-02, -2.53635357e-02],\n",
       "        [ 1.73188998e-01, -6.34764266e-02, -1.56438167e-01],\n",
       "        [-4.98037480e-01,  1.67730945e-01, -2.72599211e-01],\n",
       "        [-2.43693809e-01, -3.08234757e-01,  4.73954168e-01],\n",
       "        [ 2.86290238e-01,  5.64040793e-01, -2.28490724e-01]])]"
      ]
     },
     "execution_count": 9,
     "metadata": {},
     "output_type": "execute_result"
    }
   ],
   "source": [
    "clf.coefs_"
   ]
  },
  {
   "cell_type": "code",
   "execution_count": 15,
   "metadata": {},
   "outputs": [
    {
     "data": {
      "text/plain": [
       "((4, 20), (20, 3))"
      ]
     },
     "execution_count": 15,
     "metadata": {},
     "output_type": "execute_result"
    }
   ],
   "source": [
    "clf.coefs_[0].shape,clf.coefs_[1].shape"
   ]
  },
  {
   "cell_type": "code",
   "execution_count": 16,
   "metadata": {},
   "outputs": [
    {
     "data": {
      "text/plain": [
       "((20,), (3,))"
      ]
     },
     "execution_count": 16,
     "metadata": {},
     "output_type": "execute_result"
    }
   ],
   "source": [
    "clf.intercepts_[0].shape,clf.intercepts_[1].shape"
   ]
  }
 ],
 "metadata": {
  "kernelspec": {
   "display_name": "Python 3",
   "language": "python",
   "name": "python3"
  },
  "language_info": {
   "codemirror_mode": {
    "name": "ipython",
    "version": 3
   },
   "file_extension": ".py",
   "mimetype": "text/x-python",
   "name": "python",
   "nbconvert_exporter": "python",
   "pygments_lexer": "ipython3",
   "version": "3.7.6"
  }
 },
 "nbformat": 4,
 "nbformat_minor": 2
}
