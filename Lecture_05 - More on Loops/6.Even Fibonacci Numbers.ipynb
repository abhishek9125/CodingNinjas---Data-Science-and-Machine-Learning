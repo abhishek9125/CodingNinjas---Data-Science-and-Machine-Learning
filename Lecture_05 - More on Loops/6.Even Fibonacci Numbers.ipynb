{
 "cells": [
  {
   "cell_type": "code",
   "execution_count": null,
   "metadata": {},
   "outputs": [],
   "source": [
    "def evenFibSum(limit) : \n",
    "    if (limit < 2) : \n",
    "        return 0\n",
    "  \n",
    "\n",
    "    ef1 = 0\n",
    "    ef2 = 2\n",
    "    sm= ef1 + ef2 \n",
    "\n",
    "    while (ef2 <= limit) : \n",
    "        ef3 = 4 * ef2 + ef1 \n",
    "        if (ef3 > limit) : \n",
    "            break\n",
    "        ef1 = ef2 \n",
    "        ef2 = ef3 \n",
    "        sm = sm + ef2 \n",
    "      \n",
    "    return sm \n",
    "\n",
    "limit = int(input())\n",
    "print(evenFibSum(limit)) "
   ]
  }
 ],
 "metadata": {
  "kernelspec": {
   "display_name": "Python 3",
   "language": "python",
   "name": "python3"
  },
  "language_info": {
   "codemirror_mode": {
    "name": "ipython",
    "version": 3
   },
   "file_extension": ".py",
   "mimetype": "text/x-python",
   "name": "python",
   "nbconvert_exporter": "python",
   "pygments_lexer": "ipython3",
   "version": "3.7.6"
  }
 },
 "nbformat": 4,
 "nbformat_minor": 4
}
