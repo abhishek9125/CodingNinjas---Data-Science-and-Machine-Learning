{
 "cells": [
  {
   "cell_type": "code",
   "execution_count": null,
   "metadata": {},
   "outputs": [],
   "source": [
    "def equilibriumIndex(arr):\n",
    "\n",
    "    total_sum = sum(arr) \n",
    "    leftsum = 0\n",
    "    for i, num in enumerate(arr): \n",
    "          \n",
    "       \n",
    "        total_sum -= num \n",
    "          \n",
    "        if leftsum == total_sum: \n",
    "            return i \n",
    "        leftsum += num \n",
    " \n",
    "    return -1\n",
    "\n",
    "\n",
    "n = int(input())\n",
    "arr = [int(i) for i in input().strip().split()]\n",
    "print(equilibriumIndex(arr))\n"
   ]
  }
 ],
 "metadata": {
  "kernelspec": {
   "display_name": "Python 3",
   "language": "python",
   "name": "python3"
  },
  "language_info": {
   "codemirror_mode": {
    "name": "ipython",
    "version": 3
   },
   "file_extension": ".py",
   "mimetype": "text/x-python",
   "name": "python",
   "nbconvert_exporter": "python",
   "pygments_lexer": "ipython3",
   "version": "3.7.6"
  }
 },
 "nbformat": 4,
 "nbformat_minor": 4
}
