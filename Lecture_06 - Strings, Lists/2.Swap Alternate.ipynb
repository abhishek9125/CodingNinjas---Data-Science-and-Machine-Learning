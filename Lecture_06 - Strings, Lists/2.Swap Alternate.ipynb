{
 "cells": [
  {
   "cell_type": "code",
   "execution_count": null,
   "metadata": {},
   "outputs": [],
   "source": [
    "n=int(input())\n",
    "\n",
    "l = [int(s) for s in input().split()]\n",
    "\n",
    "i=0\n",
    "while(i<n-1):\n",
    "    temp=l[i]\n",
    "    l[i]=l[i+1]\n",
    "    l[i+1]=temp\n",
    "    i=i+2\n",
    "i=0\n",
    "while(i<n):\n",
    "    print(l[i],end=\" \")\n",
    "    i=i+1"
   ]
  }
 ],
 "metadata": {
  "kernelspec": {
   "display_name": "Python 3",
   "language": "python",
   "name": "python3"
  },
  "language_info": {
   "codemirror_mode": {
    "name": "ipython",
    "version": 3
   },
   "file_extension": ".py",
   "mimetype": "text/x-python",
   "name": "python",
   "nbconvert_exporter": "python",
   "pygments_lexer": "ipython3",
   "version": "3.7.6"
  }
 },
 "nbformat": 4,
 "nbformat_minor": 4
}
