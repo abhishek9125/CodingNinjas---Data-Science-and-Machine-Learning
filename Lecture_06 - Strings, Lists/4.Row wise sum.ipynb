{
 "cells": [
  {
   "cell_type": "code",
   "execution_count": null,
   "metadata": {},
   "outputs": [],
   "source": [
    "def rowWiseSum(arr):\n",
    " \n",
    "    m = len(arr)\n",
    "    if(m==0):\n",
    "        return -1\n",
    "    n = len(arr[0])\n",
    "    sum_i=0\n",
    "    for i in range(m):\n",
    "        sum_j=0\n",
    "        for j in range(n):\n",
    "            sum_j = sum_j + arr[i][j]\n",
    "        print(sum_j,end=\" \")\n",
    "    return\n",
    "\n",
    "    \n",
    "\n",
    "\n",
    "m, n=(int(i) for i in input().strip().split(' '))\n",
    "l=[int(i) for i in input().strip().split(' ')]\n",
    "arr = [ [ l[(j*n)+i] for i in range(n)] for j in range(m)]\n",
    "l=rowWiseSum(arr)\n",
    "\n"
   ]
  }
 ],
 "metadata": {
  "kernelspec": {
   "display_name": "Python 3",
   "language": "python",
   "name": "python3"
  },
  "language_info": {
   "codemirror_mode": {
    "name": "ipython",
    "version": 3
   },
   "file_extension": ".py",
   "mimetype": "text/x-python",
   "name": "python",
   "nbconvert_exporter": "python",
   "pygments_lexer": "ipython3",
   "version": "3.7.6"
  }
 },
 "nbformat": 4,
 "nbformat_minor": 4
}
