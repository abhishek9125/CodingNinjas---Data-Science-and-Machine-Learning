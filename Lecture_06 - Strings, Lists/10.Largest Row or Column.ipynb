{
 "cells": [
  {
   "cell_type": "code",
   "execution_count": null,
   "metadata": {},
   "outputs": [],
   "source": [
    "def largestRowCol(arr):\n",
    "    # Please add your code here\n",
    "    count = 0\n",
    "    sumj = 0\n",
    "    sumi = 0\n",
    "    for i in range(m):\n",
    "        sum1 = 0\n",
    "        for j in range(n):\n",
    "            sum1 += arr[i][j]\n",
    "        if(sumj<sum1):\n",
    "            sumj=sum1\n",
    "            col=count\n",
    "        count+=1\n",
    "    count=0\n",
    "    for i in range(n):\n",
    "        sum1 = 0\n",
    "        for j in range(m):\n",
    "            sum1 += arr[j][i]\n",
    "        if(sumi<sum1):\n",
    "            sumi=sum1\n",
    "            row=count\n",
    "        count+=1\n",
    "    if(sumi<=sumj):\n",
    "        print(\"row\",col,sumj)\n",
    "    elif(sumi>sumj):\n",
    "        print(\"column\",row,sumi)\n",
    "    pass\n",
    "\n",
    "#Main\n",
    "m, n=(int(i) for i in input().strip().split(' '))\n",
    "l=[int(i) for i in input().strip().split(' ')]\n",
    "arr = [ [ l[(j*n)+i] for i in range(n)] for j in range(m)]\n",
    "l=largestRowCol(arr)\n",
    "\n"
   ]
  }
 ],
 "metadata": {
  "kernelspec": {
   "display_name": "Python 3",
   "language": "python",
   "name": "python3"
  },
  "language_info": {
   "codemirror_mode": {
    "name": "ipython",
    "version": 3
   },
   "file_extension": ".py",
   "mimetype": "text/x-python",
   "name": "python",
   "nbconvert_exporter": "python",
   "pygments_lexer": "ipython3",
   "version": "3.7.6"
  }
 },
 "nbformat": 4,
 "nbformat_minor": 4
}
