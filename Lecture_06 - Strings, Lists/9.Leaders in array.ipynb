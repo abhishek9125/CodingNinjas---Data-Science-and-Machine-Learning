{
 "cells": [
  {
   "cell_type": "code",
   "execution_count": null,
   "metadata": {},
   "outputs": [],
   "source": [
    "s = int(input())\n",
    "\n",
    "l = [int(x) for x in input().split()]\n",
    "n=len(l)\n",
    "i=0\n",
    "\n",
    "while(i<n):\n",
    "    j=i\n",
    "    c=True\n",
    "    while(j<n):\n",
    "        if(l[i]<l[j]):\n",
    "            c=False\n",
    "            break\n",
    "        j=j+1\n",
    "    if(c==True):\n",
    "        print(l[i],end=\" \")\n",
    "    i=i+1\n",
    "        "
   ]
  }
 ],
 "metadata": {
  "kernelspec": {
   "display_name": "Python 3",
   "language": "python",
   "name": "python3"
  },
  "language_info": {
   "codemirror_mode": {
    "name": "ipython",
    "version": 3
   },
   "file_extension": ".py",
   "mimetype": "text/x-python",
   "name": "python",
   "nbconvert_exporter": "python",
   "pygments_lexer": "ipython3",
   "version": "3.7.6"
  }
 },
 "nbformat": 4,
 "nbformat_minor": 4
}
