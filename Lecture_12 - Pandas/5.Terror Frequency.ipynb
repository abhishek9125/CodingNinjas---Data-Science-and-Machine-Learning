{
 "cells": [
  {
   "cell_type": "code",
   "execution_count": 1,
   "metadata": {},
   "outputs": [],
   "source": [
    "# Problem Statement :\n",
    "# Find the frequency of the Casualty in Red Corridor states and in Jammu and Kashmir ?Here Frequency is \n",
    "# (Total Casualty/Total Number of a year)\n",
    "# Print frequency as integer value.\n",
    "# Note:Red Corridor state includes Jharkhand, Odisha, Andhra Pradesh, and Chhattisgarh. Here Casualty=Killed +Wounded.\n",
    "# Don't fill the nan value present in Killed and Wounded feature."
   ]
  },
  {
   "cell_type": "code",
   "execution_count": 23,
   "metadata": {},
   "outputs": [
    {
     "name": "stdout",
     "output_type": "stream",
     "text": [
      "115 261\n"
     ]
    }
   ],
   "source": [
    "import pandas as pd\n",
    "import numpy as np\n",
    "df = pd.read_csv('terrorismData.csv',encoding = 'UTF-8')\n",
    "year = len(set(df['Year']))\n",
    "df = df[df['Country'] == 'India']\n",
    "df['Casualty'] = df['Wounded'] + df['Killed']\n",
    "jammu = df[df['State'] == 'Jammu and Kashmir']\n",
    "red = df[(df['State'] == 'Jharkhand') | (df['State'] == 'Odisha') | (df['State'] == 'Chhattisgarh') | (df['State'] == 'Andhra Pradesh')]\n",
    "red = int(red['Casualty'].sum())\n",
    "jammu = int(jammu['Casualty'].sum())\n",
    "print(red//year,jammu//year)"
   ]
  }
 ],
 "metadata": {
  "kernelspec": {
   "display_name": "Python 3",
   "language": "python",
   "name": "python3"
  },
  "language_info": {
   "codemirror_mode": {
    "name": "ipython",
    "version": 3
   },
   "file_extension": ".py",
   "mimetype": "text/x-python",
   "name": "python",
   "nbconvert_exporter": "python",
   "pygments_lexer": "ipython3",
   "version": "3.7.6"
  }
 },
 "nbformat": 4,
 "nbformat_minor": 4
}
