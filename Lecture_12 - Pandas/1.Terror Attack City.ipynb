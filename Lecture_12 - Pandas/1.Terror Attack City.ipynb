{
 "cells": [
  {
   "cell_type": "code",
   "execution_count": 1,
   "metadata": {},
   "outputs": [],
   "source": [
    "# Problem Statement :\n",
    "# The Most Dangerous city in Jammu and Kashmir and the terrorist group which is most active in that city?\n",
    "# Print count of number of attacks in that city as integer value.\n",
    "# Note:Ignoring the Unknown Terrorist Group.Here Dangerous related with the number of terrorist attacks."
   ]
  },
  {
   "cell_type": "code",
   "execution_count": 38,
   "metadata": {},
   "outputs": [],
   "source": [
    "import pandas as pd\n",
    "df = pd.read_csv('terrorismData.csv',encoding = 'UTF-8')\n",
    "city_list = df[df['State']=='Jammu and Kashmir']\n",
    "city = city_list['City'].value_counts()\n",
    "city,attacks = city.index[0],city.values[0]\n",
    "group = df[df['City']==city]\n",
    "group = group['Group'].value_counts().index[1]"
   ]
  },
  {
   "cell_type": "code",
   "execution_count": 39,
   "metadata": {},
   "outputs": [
    {
     "data": {
      "text/plain": [
       "('Srinagar', 657, 'Muslim Separatists')"
      ]
     },
     "execution_count": 39,
     "metadata": {},
     "output_type": "execute_result"
    }
   ],
   "source": [
    "city,attacks,group"
   ]
  }
 ],
 "metadata": {
  "kernelspec": {
   "display_name": "Python 3",
   "language": "python",
   "name": "python3"
  },
  "language_info": {
   "codemirror_mode": {
    "name": "ipython",
    "version": 3
   },
   "file_extension": ".py",
   "mimetype": "text/x-python",
   "name": "python",
   "nbconvert_exporter": "python",
   "pygments_lexer": "ipython3",
   "version": "3.7.6"
  }
 },
 "nbformat": 4,
 "nbformat_minor": 4
}
