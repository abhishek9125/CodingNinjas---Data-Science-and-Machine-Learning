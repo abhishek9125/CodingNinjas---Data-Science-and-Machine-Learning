{
 "cells": [
  {
   "cell_type": "code",
   "execution_count": 1,
   "metadata": {},
   "outputs": [],
   "source": [
    "# Problem Statement :\n",
    "# There was formation of new government in India on 26 May 2014. So current government's span is from 26th May 2014 to current. \n",
    "# Find out two things from this period-\n",
    "# 1. Total number of attacks done in this period in India. Find this count as integer.\n",
    "# 2. Which Terrorist group was most active in this period in India. Most active means, group which has done maximum number of \n",
    "# attacks. \n",
    "# 3.Ignore the Unknown group."
   ]
  },
  {
   "cell_type": "code",
   "execution_count": 49,
   "metadata": {},
   "outputs": [],
   "source": [
    "import pandas as pd\n",
    "df = pd.read_csv('terrorismData.csv',encoding = 'UTF-8')\n",
    "df = df[df['Country']=='India']\n",
    "df = df[df['Year']>=2014]\n",
    "index1 = df[(df['Year']==2014) & (df['Month']<5)].index\n",
    "index2 = df[(df['Year']==2014) & (df['Month']==5) & (df['Day']<26)].index\n",
    "df.drop(index1,inplace = True)\n",
    "df.drop(index2,inplace = True)\n",
    "attacks = df.shape[0]\n",
    "group = df['Group'].value_counts().index[1]\n",
    "print(attacks,group)"
   ]
  }
 ],
 "metadata": {
  "kernelspec": {
   "display_name": "Python 3",
   "language": "python",
   "name": "python3"
  },
  "language_info": {
   "codemirror_mode": {
    "name": "ipython",
    "version": 3
   },
   "file_extension": ".py",
   "mimetype": "text/x-python",
   "name": "python",
   "nbconvert_exporter": "python",
   "pygments_lexer": "ipython3",
   "version": "3.7.6"
  }
 },
 "nbformat": 4,
 "nbformat_minor": 4
}
