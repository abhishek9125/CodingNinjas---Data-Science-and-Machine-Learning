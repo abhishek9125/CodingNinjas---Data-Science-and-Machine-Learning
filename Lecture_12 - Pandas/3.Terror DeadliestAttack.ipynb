{
 "cells": [
  {
   "cell_type": "code",
   "execution_count": 1,
   "metadata": {},
   "outputs": [],
   "source": [
    "# Problem Statement :\n",
    "# Most Deadliest attack in a history of HumanKind?\n",
    "# Print count of Killed people as integer value.\n",
    "# Note: Here Deadliest attack means, in which the most number of people killed."
   ]
  },
  {
   "cell_type": "code",
   "execution_count": 11,
   "metadata": {},
   "outputs": [
    {
     "name": "stdout",
     "output_type": "stream",
     "text": [
      "1570 Iraq Islamic State of Iraq and the Levant (ISIL)\n"
     ]
    }
   ],
   "source": [
    "import pandas as pd\n",
    "df = pd.read_csv('terrorismData.csv',encoding = 'UTF-8')\n",
    "killed = max(df['Killed'])\n",
    "group = df[df['Killed']==killed]['Group'].value_counts().index[0]\n",
    "country = df[df['Killed']==killed]['Country'].value_counts().index[0]\n",
    "print(int(killed),country,group)"
   ]
  }
 ],
 "metadata": {
  "kernelspec": {
   "display_name": "Python 3",
   "language": "python",
   "name": "python3"
  },
  "language_info": {
   "codemirror_mode": {
    "name": "ipython",
    "version": 3
   },
   "file_extension": ".py",
   "mimetype": "text/x-python",
   "name": "python",
   "nbconvert_exporter": "python",
   "pygments_lexer": "ipython3",
   "version": "3.7.6"
  }
 },
 "nbformat": 4,
 "nbformat_minor": 4
}
