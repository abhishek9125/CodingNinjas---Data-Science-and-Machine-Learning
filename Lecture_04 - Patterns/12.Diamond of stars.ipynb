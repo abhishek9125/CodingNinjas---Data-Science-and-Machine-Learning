{
 "cells": [
  {
   "cell_type": "code",
   "execution_count": null,
   "metadata": {},
   "outputs": [],
   "source": [
    "n = int(input())\n",
    "\n",
    "i=1\n",
    "\n",
    "k=(n/2)+1\n",
    "while i<=k:\n",
    "    spaces=k-i\n",
    "    while(spaces>=1):\n",
    "        print(\" \",end='')\n",
    "        spaces=spaces-1\n",
    "    \n",
    "    star=1\n",
    "    while(star<=i):\n",
    "        print(\"*\",end='')\n",
    "        star=star+1\n",
    "        \n",
    "    star=1\n",
    "    while(star<=i-1):\n",
    "        print(\"*\",end='')\n",
    "        star=star+1\n",
    "    print()\n",
    "    i=i+1\n",
    "    \n",
    "i=1\n",
    "while i<=n/2:\n",
    "    spaces = 1\n",
    "    while(spaces<=i):\n",
    "        print(\" \",end='')\n",
    "        spaces=spaces+1\n",
    "    \n",
    "    star = (n/2) - i + 1\n",
    "    while(star>=1):\n",
    "        print(\"*\",end='')\n",
    "        star = star-1\n",
    "        \n",
    "    star = (n/2) - i\n",
    "    while(star>=1):\n",
    "        print(\"*\",end='')\n",
    "        star = star - 1\n",
    "    print()\n",
    "    i=i+1"
   ]
  }
 ],
 "metadata": {
  "kernelspec": {
   "display_name": "Python 3",
   "language": "python",
   "name": "python3"
  },
  "language_info": {
   "codemirror_mode": {
    "name": "ipython",
    "version": 3
   },
   "file_extension": ".py",
   "mimetype": "text/x-python",
   "name": "python",
   "nbconvert_exporter": "python",
   "pygments_lexer": "ipython3",
   "version": "3.7.6"
  }
 },
 "nbformat": 4,
 "nbformat_minor": 4
}
