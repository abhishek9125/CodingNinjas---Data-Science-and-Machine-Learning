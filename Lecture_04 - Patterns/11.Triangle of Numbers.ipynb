{
 "cells": [
  {
   "cell_type": "code",
   "execution_count": null,
   "metadata": {},
   "outputs": [],
   "source": [
    "n = int(input())\n",
    "\n",
    "i=1\n",
    "\n",
    "while i<=n:\n",
    "    spaces=n-i\n",
    "    while(spaces>=1):\n",
    "        print(\" \",end='')\n",
    "        spaces=spaces-1\n",
    "    \n",
    "    star=i\n",
    "    while(star<=(2*i-1)):\n",
    "        print(star,end='')\n",
    "        star=star+1\n",
    "        \n",
    "    star=star-1\n",
    "    while(star>i):\n",
    "        print(star-1,end='')\n",
    "        star=star-1\n",
    "    print()\n",
    "    i=i+1"
   ]
  }
 ],
 "metadata": {
  "kernelspec": {
   "display_name": "Python 3",
   "language": "python",
   "name": "python3"
  },
  "language_info": {
   "codemirror_mode": {
    "name": "ipython",
    "version": 3
   },
   "file_extension": ".py",
   "mimetype": "text/x-python",
   "name": "python",
   "nbconvert_exporter": "python",
   "pygments_lexer": "ipython3",
   "version": "3.7.6"
  }
 },
 "nbformat": 4,
 "nbformat_minor": 4
}
