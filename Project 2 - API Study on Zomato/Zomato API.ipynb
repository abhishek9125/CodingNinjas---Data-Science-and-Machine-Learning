{
 "cells": [
  {
   "cell_type": "markdown",
   "metadata": {},
   "source": [
    "# Project Description"
   ]
  },
  {
   "cell_type": "code",
   "execution_count": 1,
   "metadata": {},
   "outputs": [],
   "source": [
    "# By Collecting the data using Zomato API one can recommend restaurants on the basis of user’s affinity to specific cuisines, \n",
    "# establishment types, locations, and price bands.\n",
    "# We can find out whether restaurant support online reservation or not.\n",
    "# We can find what is the most popular and/ or exclusive/new at a given location & time."
   ]
  },
  {
   "cell_type": "markdown",
   "metadata": {},
   "source": [
    "# API KEY"
   ]
  },
  {
   "cell_type": "code",
   "execution_count": 23,
   "metadata": {},
   "outputs": [],
   "source": [
    "import requests\n",
    "user_key = ''\n",
    "basic_api = 'https://developers.zomato.com/api/v2.1'"
   ]
  },
  {
   "cell_type": "markdown",
   "metadata": {},
   "source": [
    "# Problem Statements"
   ]
  },
  {
   "cell_type": "code",
   "execution_count": 3,
   "metadata": {},
   "outputs": [],
   "source": [
    "# Problem Statement 1: \n",
    "# Fetch the cuisine_id of ‘Mexican’ cuisine."
   ]
  },
  {
   "cell_type": "code",
   "execution_count": 4,
   "metadata": {},
   "outputs": [
    {
     "name": "stdout",
     "output_type": "stream",
     "text": [
      "73\n"
     ]
    }
   ],
   "source": [
    "header = {'user-key' : user_key}\n",
    "cuisines = {}\n",
    "cui_id = range(1,10) #11900\n",
    "for i in cui_id:\n",
    "    params = {'city_id' : i}\n",
    "    response = requests.get(basic_api + '/cuisines', headers = header,params = params)\n",
    "    data = response.json()\n",
    "    x = data['cuisines']\n",
    "    for i in x:\n",
    "        cuisines[i['cuisine']['cuisine_name']] = i['cuisine']['cuisine_id']\n",
    "#Cuisines contain Id's of all Cuisines for cities having ID in above range.\n",
    "print(cuisines['Mexican'])"
   ]
  },
  {
   "cell_type": "code",
   "execution_count": 5,
   "metadata": {},
   "outputs": [],
   "source": [
    "# Problem Statement 2:\n",
    "# Fetch the entityid and entitytype of place Connaught Place"
   ]
  },
  {
   "cell_type": "code",
   "execution_count": 6,
   "metadata": {},
   "outputs": [
    {
     "name": "stdout",
     "output_type": "stream",
     "text": [
      "104 subzone\n"
     ]
    }
   ],
   "source": [
    "header = {'user-key' : user_key}\n",
    "params = {'query' : 'Connaught Place'} #Pass any place for \n",
    "response = requests.get(basic_api + '/locations', headers = header,params = params)\n",
    "data = response.json()\n",
    "entity_type = data['location_suggestions'][0]['entity_type']\n",
    "entity_id = data['location_suggestions'][0]['entity_id']\n",
    "print(entity_id,entity_type)"
   ]
  },
  {
   "cell_type": "code",
   "execution_count": 7,
   "metadata": {},
   "outputs": [],
   "source": [
    "# Problem Statement 3:\n",
    "# Fetch the top 10 best-rated restaurant serving ‘Mexican’ cuisine present in Connaught Place.\n",
    "# Print the restaurant name, user rating and restaurant id."
   ]
  },
  {
   "cell_type": "code",
   "execution_count": 8,
   "metadata": {},
   "outputs": [
    {
     "name": "stdout",
     "output_type": "stream",
     "text": [
      "Chili's Grill & Bar 4.6 18537536\n",
      "38 Barracks 4.6 18241537\n",
      "Ministry Of Beer 4.5 18418277\n",
      "Xero Degrees 4.4 18729557\n",
      "Farzi Cafe 4.3 18233593\n",
      "Bunta Bar Live 4.3 18623406\n",
      "Unplugged Courtyard 4.2 18216901\n",
      "Excuse Me Boss 4.2 307036\n",
      "Punjabi By Nature 4.2 306497\n",
      "The Art House Bar n Cafe 4.2 18863766\n"
     ]
    }
   ],
   "source": [
    "header = {'user-key' : user_key}\n",
    "params = {'entity_id' : entity_id,'entity_type' : entity_type , 'cuisines' : cuisines['Mexican'], 'count' : 10, 'sort' : 'rating'}\n",
    "response = requests.get(basic_api + '/search', headers = header,params = params)\n",
    "data = response.json()\n",
    "data = data['restaurants']\n",
    "for i in data:\n",
    "    print(i['restaurant']['name'],i['restaurant']['user_rating']['aggregate_rating'],i['restaurant']['R']['res_id'])"
   ]
  },
  {
   "cell_type": "code",
   "execution_count": 9,
   "metadata": {},
   "outputs": [],
   "source": [
    "# Problem Statement 4:\n",
    "# Fetch the category id of category type ‘Cafes’.\n",
    "# Print the category_id."
   ]
  },
  {
   "cell_type": "code",
   "execution_count": 10,
   "metadata": {},
   "outputs": [
    {
     "name": "stdout",
     "output_type": "stream",
     "text": [
      "6\n"
     ]
    }
   ],
   "source": [
    "header = {'user-key' : user_key}\n",
    "response = requests.get(basic_api + '/categories', headers = header)\n",
    "data = response.json()\n",
    "restautant_category = {}\n",
    "for i in data['categories']:\n",
    "    key = i['categories']\n",
    "    restautant_category[key['id']] = key['name']\n",
    "for i in restautant_category:\n",
    "    if(restautant_category[i]=='Cafes'):\n",
    "        category_cafe = i\n",
    "print(category_cafe)"
   ]
  },
  {
   "cell_type": "code",
   "execution_count": 11,
   "metadata": {},
   "outputs": [],
   "source": [
    "# Problem statement 5:\n",
    "# Fetch the best-rated restaurant for ‘Mexican’ cuisine with category type ‘ Cafes’ present in Connaught Place.\n",
    "# Print the restaurant name, user rating and restaurant id."
   ]
  },
  {
   "cell_type": "code",
   "execution_count": 12,
   "metadata": {},
   "outputs": [
    {
     "name": "stdout",
     "output_type": "stream",
     "text": [
      "Xero Degrees 4.4 18729557\n",
      "The Art House Bar n Cafe 4.2 18863766\n",
      "Cafe Delhi Heights 4.0 18579363\n",
      "Cafe Coffee Day - The Square 3.8 303034\n"
     ]
    }
   ],
   "source": [
    "header = {'user-key' : user_key}\n",
    "params = {'entity_id' : entity_id,'entity_type' : entity_type , 'cuisines' : cuisines['Mexican'],'category' :category_cafe , 'sort' : 'rating'}\n",
    "response = requests.get(basic_api + '/search', headers = header,params = params)\n",
    "data = response.json()\n",
    "data = data['restaurants']\n",
    "cp_res_id = []\n",
    "cp_res_name = []\n",
    "for i in data:\n",
    "    print(i['restaurant']['name'],i['restaurant']['user_rating']['aggregate_rating'],i['restaurant']['R']['res_id'])\n",
    "    cp_res_id.append(i['restaurant']['R']['res_id'])\n",
    "    cp_res_name.append(i['restaurant']['name'])"
   ]
  },
  {
   "cell_type": "code",
   "execution_count": 13,
   "metadata": {},
   "outputs": [],
   "source": [
    "# Problem Statement 6\n",
    "# Fetch the latest review of the best-rated restaurant for ‘Mexican’ cuisine with Category type ‘Cafes’ present in \n",
    "# Connaught Place.\n",
    "# Print the name of user ,user rating and review text."
   ]
  },
  {
   "cell_type": "code",
   "execution_count": 14,
   "metadata": {},
   "outputs": [
    {
     "name": "stdout",
     "output_type": "stream",
     "text": [
      "Xero Degrees\n",
      "Crispy Cluck 5 Very good like i like! Tasty food and a good customer service. Better place to try a french fries.\n",
      "Sonali 5 Xero degree is one of my favourite place. The ambience is small but it is amazing. I love there food and presentation even when they do home delivery. The all food 🥘 served their are mouth watering and look fresh. the shakes and coolent are just amazing And peri peri cheezy fries and white sauce pasta are my favourite. And they serve a very different pizza that is jar pizza which they serves in jar with full of cheese 🧀. Highly recommended place.\n",
      "Ayush Bhagat 5 \n",
      "Hina 4 \n",
      "Shivansh 4 \n",
      "\n",
      "The Art House Bar n Cafe\n",
      "Rashi Singh 3 \n",
      "Ayush Bhagat 5 \n",
      "Siddarth 4 The art house n bar cafe  The name itself has art like their food  Best place to go on weekends their live music🔥🔥\n",
      "Manveer 3 \n",
      "Divyanshi Bindal 5 The ambience of the place is really good. The seating is also very comfortable and compliments the ambience of the place. The food and drinks were really good. I loved the place. I just find the staff was courteous though but not much interested in serving.\n",
      "\n",
      "Cafe Delhi Heights\n",
      "Parul Priya 5 Cheese toast ? Why not 🤣😂 Good food an good vibe defines this place. Heard a lot about this place and found the food to be amazing. Definately will go back as soon as I can. Music was 10 on 10 and so as the staffs.    Pizza:4/5 Cheese Toast : 4/5\n",
      "Nancy Gupta 4 Everything is great.. From food to ambience.. One place for amazing food...\n",
      "Preeti Jain 4 \n",
      "Avantika Dubey 5 Food was amazing, service was greatly done by mukul....he was very patient in assisting us with the options. Would love to visit again soon. Keep it up team Delhi Heights.\n",
      "Tanuj Grover 5 V beautiful white sauce pasta ♥️\n",
      "\n",
      "Cafe Coffee Day - The Square\n",
      "Ritesh 4 The staff was so good. Coffee was so nice.  I like the way they serve.   Everyone should visit CCD 😋😋😋🤘🤘............\n",
      "Charu Garg 3 Recently I went to this outlet of CCD in the heart of delhi, CP. The crowd was moderate here during the time of visit. The staff was well groomed and quick with the response. I enjoyed their special latte, cappuccino and pasta. The taste of everything was on point and everything was fresh. For the Sweet tooth we opted for Chocolate walnut brownie. It was served with the garnish of Chocolate syrup on top.\n",
      "Ruhikaur 4 This place is very expensive. It was cost me around rupees 1200 for 3 coffee. Yes ambiance was good and seating were comfortable.\n",
      "Vidhi Gupta 4 \n",
      "Arti Gupta 4 \n",
      "\n"
     ]
    }
   ],
   "source": [
    "header = {'user-key' : user_key}\n",
    "n = 0\n",
    "for i in cp_res_id:\n",
    "    params = {'res_id' : i}\n",
    "    response = requests.get(basic_api + '/reviews', headers = header,params = params)\n",
    "    data = response.json().get('user_reviews')\n",
    "    print(cp_res_name[n])\n",
    "    n=n+1\n",
    "    for k in data:\n",
    "        print(k['review']['user']['name'],k['review']['rating'],k['review']['review_text'])\n",
    "    print()"
   ]
  },
  {
   "cell_type": "code",
   "execution_count": 15,
   "metadata": {},
   "outputs": [],
   "source": [
    "# Problem Statement 7\n",
    "# Fetch the details of restaurant 736 AD.\n",
    "# Print the user rating, average cost for two, cuisines and address of 736 AD."
   ]
  },
  {
   "cell_type": "code",
   "execution_count": 16,
   "metadata": {},
   "outputs": [
    {
     "name": "stdout",
     "output_type": "stream",
     "text": [
      "4.3 1400 North Indian, Continental, Italian, Chinese G-15/B, Vijay Nagar, New Delhi\n"
     ]
    }
   ],
   "source": [
    "header = {'user-key' : user_key}\n",
    "res_id = 18241524\n",
    "params = {'res_id' : res_id}\n",
    "response = requests.get(basic_api + '/restaurant', headers = header,params = params)\n",
    "data = response.json()\n",
    "rating = data.get('user_rating').get('aggregate_rating')\n",
    "cost = data.get('average_cost_for_two')\n",
    "cuis = data.get('cuisines')\n",
    "address = data.get('location').get('address')\n",
    "print(rating,cost,cuis,address)"
   ]
  },
  {
   "cell_type": "code",
   "execution_count": 17,
   "metadata": {},
   "outputs": [],
   "source": [
    "# Problem Statement 8\n",
    "# Find out whether online table reservation is supported in 736 AD or not."
   ]
  },
  {
   "cell_type": "code",
   "execution_count": 18,
   "metadata": {},
   "outputs": [
    {
     "name": "stdout",
     "output_type": "stream",
     "text": [
      "No\n"
     ]
    }
   ],
   "source": [
    "header = {'user-key' : user_key}\n",
    "res_id = 18241524\n",
    "params = {'res_id' : res_id}\n",
    "response = requests.get(basic_api + '/restaurant', headers = header,params = params)\n",
    "data = response.json()\n",
    "reservation = data['is_table_reservation_supported']\n",
    "if reservation == 1:\n",
    "    print(\"Yes\")\n",
    "else:\n",
    "    print(\"No\")"
   ]
  },
  {
   "cell_type": "code",
   "execution_count": 19,
   "metadata": {},
   "outputs": [],
   "source": [
    "# Problem Statement 9\n",
    "# Fetch the latest review of restaurant 736 AD.\n",
    "# Print the name of user ,user rating and review text."
   ]
  },
  {
   "cell_type": "code",
   "execution_count": 20,
   "metadata": {},
   "outputs": [
    {
     "name": "stdout",
     "output_type": "stream",
     "text": [
      "Palak Sharma 4 \n",
      "Ankita Sharma | Geographyedible 😎✌️ 5 All time favourite place ♥️💝\n",
      "Lavanya Kv 4 \n",
      "Foodieszonee 4 It’s a very nice place to hangout and has a very nice ambience, great dj and the food was very good must try white sauce pasta.  Good and fast service also reasonable price.\n",
      "Prerana Verma 5 \n"
     ]
    }
   ],
   "source": [
    "header = {'user-key' : user_key}\n",
    "res_id = 18241524\n",
    "params = {'res_id' : res_id}\n",
    "response = requests.get(basic_api + '/reviews', headers = header,params = params)\n",
    "data = response.json()\n",
    "data = data.get('user_reviews')\n",
    "for i in data:\n",
    "    print(i['review']['user']['name'],i['review']['rating'],i['review']['review_text'])"
   ]
  },
  {
   "cell_type": "code",
   "execution_count": 21,
   "metadata": {},
   "outputs": [],
   "source": [
    "# Problem Statement 10:\n",
    "# Fetch the cuisine_id of of cuisine ‘BBQ’"
   ]
  },
  {
   "cell_type": "code",
   "execution_count": 22,
   "metadata": {},
   "outputs": [
    {
     "name": "stdout",
     "output_type": "stream",
     "text": [
      "193\n"
     ]
    }
   ],
   "source": [
    "header = {'user-key' : user_key}\n",
    "params = {'city_id' : 1}\n",
    "response = requests.get(basic_api + '/cuisines', headers = header,params = params)\n",
    "data = response.json()\n",
    "cuisineID  = 0\n",
    "for i in data['cuisines']:\n",
    "    if(i['cuisine']['cuisine_name'] == 'BBQ'):\n",
    "        cuisineID = i['cuisine']['cuisine_id']\n",
    "        break\n",
    "print(cuisineID)"
   ]
  }
 ],
 "metadata": {
  "kernelspec": {
   "display_name": "Python 3",
   "language": "python",
   "name": "python3"
  },
  "language_info": {
   "codemirror_mode": {
    "name": "ipython",
    "version": 3
   },
   "file_extension": ".py",
   "mimetype": "text/x-python",
   "name": "python",
   "nbconvert_exporter": "python",
   "pygments_lexer": "ipython3",
   "version": "3.7.6"
  }
 },
 "nbformat": 4,
 "nbformat_minor": 4
}
