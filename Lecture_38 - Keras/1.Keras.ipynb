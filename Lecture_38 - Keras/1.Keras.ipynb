{
 "cells": [
  {
   "cell_type": "code",
   "execution_count": 5,
   "metadata": {},
   "outputs": [],
   "source": [
    "from keras.models import Sequential\n",
    "from keras.layers import Dense\n",
    "from sklearn import datasets\n",
    "from sklearn.model_selection import train_test_split\n",
    "from sklearn.preprocessing import StandardScaler"
   ]
  },
  {
   "cell_type": "code",
   "execution_count": 6,
   "metadata": {},
   "outputs": [],
   "source": [
    "model = Sequential()"
   ]
  },
  {
   "cell_type": "code",
   "execution_count": 7,
   "metadata": {},
   "outputs": [
    {
     "name": "stdout",
     "output_type": "stream",
     "text": [
      "WARNING:tensorflow:From C:\\Users\\HP\\anaconda3\\lib\\site-packages\\tensorflow\\python\\ops\\resource_variable_ops.py:435: colocate_with (from tensorflow.python.framework.ops) is deprecated and will be removed in a future version.\n",
      "Instructions for updating:\n",
      "Colocations handled automatically by placer.\n"
     ]
    }
   ],
   "source": [
    "layer1 = Dense(units = 32,activation = 'relu', input_dim = 30)\n",
    "model.add(layer1)\n",
    "model.add(Dense(units = 16,activation = 'relu'))\n",
    "model.add(Dense(units = 1,activation = 'sigmoid'))"
   ]
  },
  {
   "cell_type": "code",
   "execution_count": 8,
   "metadata": {},
   "outputs": [],
   "source": [
    "model.compile(optimizer = 'adam',loss = 'binary_crossentropy', metrics = ['accuracy'])"
   ]
  },
  {
   "cell_type": "code",
   "execution_count": 9,
   "metadata": {},
   "outputs": [],
   "source": [
    "cancer = datasets.load_breast_cancer()"
   ]
  },
  {
   "cell_type": "code",
   "execution_count": 11,
   "metadata": {},
   "outputs": [],
   "source": [
    "x_train,x_test,y_train,y_test = train_test_split(cancer.data,cancer.target,test_size = 0.2,random_state = 0)"
   ]
  },
  {
   "cell_type": "code",
   "execution_count": 12,
   "metadata": {},
   "outputs": [
    {
     "name": "stdout",
     "output_type": "stream",
     "text": [
      "WARNING:tensorflow:From C:\\Users\\HP\\anaconda3\\lib\\site-packages\\tensorflow\\python\\ops\\math_ops.py:3066: to_int32 (from tensorflow.python.ops.math_ops) is deprecated and will be removed in a future version.\n",
      "Instructions for updating:\n",
      "Use tf.cast instead.\n",
      "Train on 455 samples, validate on 114 samples\n",
      "Epoch 1/20\n",
      "455/455 [==============================] - 0s 516us/step - loss: 10.2731 - accuracy: 0.3626 - val_loss: 9.4729 - val_accuracy: 0.4123\n",
      "Epoch 2/20\n",
      "455/455 [==============================] - 0s 35us/step - loss: 10.2731 - accuracy: 0.3626 - val_loss: 9.4729 - val_accuracy: 0.4123\n",
      "Epoch 3/20\n",
      "455/455 [==============================] - 0s 39us/step - loss: 10.2731 - accuracy: 0.3626 - val_loss: 9.4729 - val_accuracy: 0.4123\n",
      "Epoch 4/20\n",
      "455/455 [==============================] - 0s 44us/step - loss: 10.2731 - accuracy: 0.3626 - val_loss: 9.4729 - val_accuracy: 0.4123\n",
      "Epoch 5/20\n",
      "455/455 [==============================] - 0s 37us/step - loss: 10.2731 - accuracy: 0.3626 - val_loss: 9.4729 - val_accuracy: 0.4123\n",
      "Epoch 6/20\n",
      "455/455 [==============================] - 0s 37us/step - loss: 10.2731 - accuracy: 0.3626 - val_loss: 9.4729 - val_accuracy: 0.4123\n",
      "Epoch 7/20\n",
      "455/455 [==============================] - 0s 33us/step - loss: 10.2731 - accuracy: 0.3626 - val_loss: 9.4729 - val_accuracy: 0.4123\n",
      "Epoch 8/20\n",
      "455/455 [==============================] - 0s 37us/step - loss: 10.2731 - accuracy: 0.3626 - val_loss: 9.4729 - val_accuracy: 0.4123\n",
      "Epoch 9/20\n",
      "455/455 [==============================] - 0s 35us/step - loss: 10.2731 - accuracy: 0.3626 - val_loss: 9.4729 - val_accuracy: 0.4123\n",
      "Epoch 10/20\n",
      "455/455 [==============================] - 0s 35us/step - loss: 10.2731 - accuracy: 0.3626 - val_loss: 9.4729 - val_accuracy: 0.4123\n",
      "Epoch 11/20\n",
      "455/455 [==============================] - 0s 33us/step - loss: 10.2731 - accuracy: 0.3626 - val_loss: 9.4729 - val_accuracy: 0.4123\n",
      "Epoch 12/20\n",
      "455/455 [==============================] - 0s 31us/step - loss: 10.2731 - accuracy: 0.3626 - val_loss: 9.4729 - val_accuracy: 0.4123\n",
      "Epoch 13/20\n",
      "455/455 [==============================] - 0s 31us/step - loss: 10.2731 - accuracy: 0.3626 - val_loss: 9.4729 - val_accuracy: 0.4123\n",
      "Epoch 14/20\n",
      "455/455 [==============================] - 0s 33us/step - loss: 10.2731 - accuracy: 0.3626 - val_loss: 9.4729 - val_accuracy: 0.4123\n",
      "Epoch 15/20\n",
      "455/455 [==============================] - 0s 31us/step - loss: 10.2731 - accuracy: 0.3626 - val_loss: 9.4729 - val_accuracy: 0.4123\n",
      "Epoch 16/20\n",
      "455/455 [==============================] - 0s 33us/step - loss: 10.2731 - accuracy: 0.3626 - val_loss: 9.4729 - val_accuracy: 0.4123\n",
      "Epoch 17/20\n",
      "455/455 [==============================] - 0s 35us/step - loss: 10.2731 - accuracy: 0.3626 - val_loss: 9.4729 - val_accuracy: 0.4123\n",
      "Epoch 18/20\n",
      "455/455 [==============================] - 0s 37us/step - loss: 10.2731 - accuracy: 0.3626 - val_loss: 9.4729 - val_accuracy: 0.4123\n",
      "Epoch 19/20\n",
      "455/455 [==============================] - 0s 33us/step - loss: 10.2731 - accuracy: 0.3626 - val_loss: 9.4729 - val_accuracy: 0.4123\n",
      "Epoch 20/20\n",
      "455/455 [==============================] - 0s 35us/step - loss: 10.2731 - accuracy: 0.3626 - val_loss: 9.4729 - val_accuracy: 0.4123\n"
     ]
    },
    {
     "data": {
      "text/plain": [
       "<keras.callbacks.callbacks.History at 0x2862e55e7c8>"
      ]
     },
     "execution_count": 12,
     "metadata": {},
     "output_type": "execute_result"
    }
   ],
   "source": [
    "model.fit(x_train,y_train,epochs = 20,batch_size = 50,validation_data = (x_test,y_test))"
   ]
  },
  {
   "cell_type": "code",
   "execution_count": 13,
   "metadata": {},
   "outputs": [
    {
     "name": "stdout",
     "output_type": "stream",
     "text": [
      "114/114 [==============================] - 0s 26us/step\n"
     ]
    },
    {
     "data": {
      "text/plain": [
       "[9.47291568287632, 0.41228070855140686]"
      ]
     },
     "execution_count": 13,
     "metadata": {},
     "output_type": "execute_result"
    }
   ],
   "source": [
    "predictions = model.predict(x_test)\n",
    "score = model.evaluate(x_test,y_test)\n",
    "score"
   ]
  },
  {
   "cell_type": "code",
   "execution_count": null,
   "metadata": {},
   "outputs": [],
   "source": []
  }
 ],
 "metadata": {
  "kernelspec": {
   "display_name": "Python 3",
   "language": "python",
   "name": "python3"
  },
  "language_info": {
   "codemirror_mode": {
    "name": "ipython",
    "version": 3
   },
   "file_extension": ".py",
   "mimetype": "text/x-python",
   "name": "python",
   "nbconvert_exporter": "python",
   "pygments_lexer": "ipython3",
   "version": "3.7.6"
  }
 },
 "nbformat": 4,
 "nbformat_minor": 4
}
