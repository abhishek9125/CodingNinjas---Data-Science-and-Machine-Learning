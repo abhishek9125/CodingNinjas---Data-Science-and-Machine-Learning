{
 "cells": [
  {
   "cell_type": "code",
   "execution_count": null,
   "metadata": {},
   "outputs": [],
   "source": [
    "NO_OF_CHARS = 256\n",
    "\n",
    "def getCharCountArray(string): \n",
    "    count = [0] * NO_OF_CHARS \n",
    "    for i in string: \n",
    "        count[ord(i)]+=1\n",
    "    return count \n",
    "  \n",
    "def NonRepeating(string): \n",
    "    count = getCharCountArray(string) \n",
    "    index = -1\n",
    "    k = 0\n",
    "  \n",
    "    for i in string: \n",
    "        if count[ord(i)] == 1: \n",
    "            index = k \n",
    "            break\n",
    "        k += 1\n",
    "  \n",
    "    return index \n",
    "\n",
    "\n",
    "# Main\n",
    "string = input()\n",
    "index = NonRepeating(string)\n",
    "\n",
    "\n",
    "print(string[index])"
   ]
  }
 ],
 "metadata": {
  "kernelspec": {
   "display_name": "Python 3",
   "language": "python",
   "name": "python3"
  },
  "language_info": {
   "codemirror_mode": {
    "name": "ipython",
    "version": 3
   },
   "file_extension": ".py",
   "mimetype": "text/x-python",
   "name": "python",
   "nbconvert_exporter": "python",
   "pygments_lexer": "ipython3",
   "version": "3.7.6"
  }
 },
 "nbformat": 4,
 "nbformat_minor": 4
}
