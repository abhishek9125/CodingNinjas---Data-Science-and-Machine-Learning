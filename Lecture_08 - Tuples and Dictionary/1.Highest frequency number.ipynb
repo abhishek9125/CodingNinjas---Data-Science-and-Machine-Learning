{
 "cells": [
  {
   "cell_type": "code",
   "execution_count": null,
   "metadata": {},
   "outputs": [],
   "source": [
    "def maxFreq(l):\n",
    "    # Please add your code here\n",
    "    d={}\n",
    "    for i in l:\n",
    "        d[i] = d.get(i,0) + 1\n",
    "\n",
    "        \n",
    "    max=0\n",
    "    \n",
    "    for i in l:\n",
    "        if(max<d[i]):\n",
    "            max = d[i]\n",
    "            t=i\n",
    "    \n",
    "    return t\n",
    "\n",
    "# Main\n",
    "n=int(input())\n",
    "l=list(int(i) for i in input().strip().split(' '))\n",
    "print(maxFreq(l))"
   ]
  }
 ],
 "metadata": {
  "kernelspec": {
   "display_name": "Python 3",
   "language": "python",
   "name": "python3"
  },
  "language_info": {
   "codemirror_mode": {
    "name": "ipython",
    "version": 3
   },
   "file_extension": ".py",
   "mimetype": "text/x-python",
   "name": "python",
   "nbconvert_exporter": "python",
   "pygments_lexer": "ipython3",
   "version": "3.7.6"
  }
 },
 "nbformat": 4,
 "nbformat_minor": 4
}
