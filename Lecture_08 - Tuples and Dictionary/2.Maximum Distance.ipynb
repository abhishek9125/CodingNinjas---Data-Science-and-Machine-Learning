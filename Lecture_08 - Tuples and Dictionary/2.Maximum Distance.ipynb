{
 "cells": [
  {
   "cell_type": "code",
   "execution_count": null,
   "metadata": {},
   "outputs": [],
   "source": [
    "def maxDistance(arr, n): \n",
    "      \n",
    "    mp = {}\n",
    "    maxDict = 0\n",
    "    for i in range(n): \n",
    "\n",
    "        if arr[i] not in mp.keys(): \n",
    "            mp[arr[i]] = i \n",
    "  \n",
    "        else: \n",
    "            maxDict = max(maxDict, i-mp[arr[i]]) \n",
    "  \n",
    "    return maxDict \n",
    "n = int(input())\n",
    "arr = [i for i in input().split()]\n",
    "\n",
    "print(maxDistance(arr,n))"
   ]
  }
 ],
 "metadata": {
  "kernelspec": {
   "display_name": "Python 3",
   "language": "python",
   "name": "python3"
  },
  "language_info": {
   "codemirror_mode": {
    "name": "ipython",
    "version": 3
   },
   "file_extension": ".py",
   "mimetype": "text/x-python",
   "name": "python",
   "nbconvert_exporter": "python",
   "pygments_lexer": "ipython3",
   "version": "3.7.6"
  }
 },
 "nbformat": 4,
 "nbformat_minor": 4
}
