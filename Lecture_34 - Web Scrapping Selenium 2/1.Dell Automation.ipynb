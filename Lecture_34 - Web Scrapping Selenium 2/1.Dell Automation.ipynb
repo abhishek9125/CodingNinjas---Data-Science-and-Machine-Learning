{
 "cells": [
  {
   "cell_type": "code",
   "execution_count": 1,
   "metadata": {},
   "outputs": [],
   "source": [
    "from selenium import webdriver"
   ]
  },
  {
   "cell_type": "code",
   "execution_count": 3,
   "metadata": {},
   "outputs": [],
   "source": [
    "driver = webdriver.Chrome('chromedriver')\n",
    "driver.get('https://www.dell.com/en-in')\n",
    "text_box = driver.find_element_by_class_name('mh-search-input')\n",
    "text_box.send_keys('Gaming Laptops')\n",
    "search_btn = driver.find_element_by_class_name('mh-search-btn')\n",
    "search_btn.click()\n",
    "driver.implicitly_wait(10)\n",
    "lap1 = driver.find_element_by_xpath('//div[contains(@class,\"gridbox\")]/div/a')\n",
    "lap1.click()"
   ]
  },
  {
   "cell_type": "code",
   "execution_count": 4,
   "metadata": {},
   "outputs": [],
   "source": [
    "from selenium.webdriver.support.ui import WebDriverWait\n",
    "from selenium.webdriver.support import expected_conditions as EC \n",
    "from selenium.webdriver.common.by import By\n",
    "\n",
    "driver = webdriver.Chrome('chromedriver')\n",
    "driver.get('https://www.dell.com/en-in')\n",
    "text_box = driver.find_element_by_class_name('mh-search-input')\n",
    "text_box.send_keys('Gaming Laptops')\n",
    "search_btn = driver.find_element_by_class_name('mh-search-btn')\n",
    "search_btn.click()\n",
    "\n",
    "wait = WebDriverWait(driver, 10)\n",
    "lap1 = wait.until(EC.presence_of_element_located((By.XPATH,'//div[contains(@class,\"gridbox\")]/div/a')))\n",
    "\n",
    "lap1.click()"
   ]
  }
 ],
 "metadata": {
  "kernelspec": {
   "display_name": "Python 3",
   "language": "python",
   "name": "python3"
  },
  "language_info": {
   "codemirror_mode": {
    "name": "ipython",
    "version": 3
   },
   "file_extension": ".py",
   "mimetype": "text/x-python",
   "name": "python",
   "nbconvert_exporter": "python",
   "pygments_lexer": "ipython3",
   "version": "3.7.6"
  }
 },
 "nbformat": 4,
 "nbformat_minor": 4
}
