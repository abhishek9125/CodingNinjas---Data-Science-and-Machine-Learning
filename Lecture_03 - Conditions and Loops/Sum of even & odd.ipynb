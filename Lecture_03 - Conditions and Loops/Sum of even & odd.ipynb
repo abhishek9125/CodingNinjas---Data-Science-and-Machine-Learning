{
 "cells": [
  {
   "cell_type": "code",
   "execution_count": null,
   "metadata": {},
   "outputs": [],
   "source": [
    "n = int(input())\n",
    "even=0\n",
    "odd=0\n",
    "while(n>0):\n",
    "    k=n%10\n",
    "    if(k%2==0):\n",
    "        even = even + k\n",
    "    else:\n",
    "        odd = odd + k\n",
    "    n=n//10\n",
    "\n",
    "print(even,\" \",odd)"
   ]
  }
 ],
 "metadata": {
  "kernelspec": {
   "display_name": "Python 3",
   "language": "python",
   "name": "python3"
  },
  "language_info": {
   "codemirror_mode": {
    "name": "ipython",
    "version": 3
   },
   "file_extension": ".py",
   "mimetype": "text/x-python",
   "name": "python",
   "nbconvert_exporter": "python",
   "pygments_lexer": "ipython3",
   "version": "3.7.6"
  }
 },
 "nbformat": 4,
 "nbformat_minor": 4
}
