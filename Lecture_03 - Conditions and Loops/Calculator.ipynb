{
 "cells": [
  {
   "cell_type": "code",
   "execution_count": null,
   "metadata": {},
   "outputs": [],
   "source": [
    "while True:\n",
    "       \n",
    "    operation = int(input())\n",
    "    \n",
    "    if(operation > 6):\n",
    "        print(\"Invalid Operation\")\n",
    "    if(operation == 6):\n",
    "        break\n",
    "    \n",
    "    a = int(input())\n",
    "    b = int(input())\n",
    "    \n",
    "    if(operation == 1):\n",
    "        print(a+b)\n",
    "    elif(operation == 2):\n",
    "        print(a-b)\n",
    "    elif(operation == 3):\n",
    "        print(a*b)\n",
    "    elif(operation == 4):\n",
    "        print(a/b)\n",
    "    elif(operation == 5):\n",
    "        print(a%b)\n",
    "  \n",
    "  \n",
    "    "
   ]
  }
 ],
 "metadata": {
  "kernelspec": {
   "display_name": "Python 3",
   "language": "python",
   "name": "python3"
  },
  "language_info": {
   "codemirror_mode": {
    "name": "ipython",
    "version": 3
   },
   "file_extension": ".py",
   "mimetype": "text/x-python",
   "name": "python",
   "nbconvert_exporter": "python",
   "pygments_lexer": "ipython3",
   "version": "3.7.6"
  }
 },
 "nbformat": 4,
 "nbformat_minor": 4
}
